{
 "cells": [
  {
   "cell_type": "markdown",
   "metadata": {
    "collapsed": false,
    "jupyter": {
     "outputs_hidden": false
    }
   },
   "source": [
    "# Simulation parameters\n",
    "We create a parameter dataframe containing the simulations' parameters, and a convenience function to fill it."
   ]
  },
  {
   "cell_type": "code",
   "execution_count": 1,
   "metadata": {
    "collapsed": false,
    "is_executing": true,
    "jupyter": {
     "outputs_hidden": false
    }
   },
   "outputs": [],
   "source": [
    "import math\n",
    "import pandas as pd\n",
    "\n",
    "# create empty dataframe\n",
    "columns = [\"name\",  # name of the parameter\n",
    "           \"info\",  # additional info, if required\n",
    "           \"real_value\",  # real value (i.e. not using arbitrary units)\n",
    "           \"real_range_max\",  # max theoretical value (if meaningful)\n",
    "           \"real_range_min\",  # min theoretical value (if meaningful)\n",
    "           \"real_um\",  # unit of measure\n",
    "           \"sim_value\",  # value in arbitrary units\n",
    "           \"sim_range_max\",  # max value in arbitrary units\n",
    "           \"sim_range_min\",  # min value in arbitrary units\n",
    "           \"sim_um\",  # arbitrary units of measure\n",
    "           \"references\",  # scientific reference for the parameter (if needed)\n",
    "           \"influence\"]  # list of other parameters affected by the current parameter (not used)\n",
    "parameters_df = pd.DataFrame(columns=columns)\n",
    "\n",
    "\n",
    "# define convenience function to fill parameters dict\n",
    "def fill_parameters(params: pd.DataFrame,\n",
    "                    name=None,\n",
    "                    info=None,\n",
    "                    real_value=None,\n",
    "                    real_range_max=None,\n",
    "                    real_range_min=None,\n",
    "                    real_um=None,\n",
    "                    sim_value=None,\n",
    "                    sim_range_max=None,\n",
    "                    sim_range_min=None,\n",
    "                    sim_um=None,\n",
    "                    references=None,\n",
    "                    influence=None):\n",
    "    # get input arguments\n",
    "    args = locals()\n",
    "\n",
    "    # define dictionary of the new row\n",
    "    new_parameter_dict = {}\n",
    "    for column in columns:\n",
    "        new_parameter_dict[column] = [args[column]]\n",
    "\n",
    "    # add it to\n",
    "    return pd.concat([params, pd.DataFrame(new_parameter_dict)])"
   ]
  },
  {
   "cell_type": "markdown",
   "metadata": {
    "collapsed": false,
    "jupyter": {
     "outputs_hidden": false
    }
   },
   "source": [
    "Then we initialize the arbitrary units:"
   ]
  },
  {
   "cell_type": "code",
   "execution_count": 2,
   "metadata": {
    "collapsed": false,
    "is_executing": true,
    "jupyter": {
     "outputs_hidden": false
    }
   },
   "outputs": [],
   "source": [
    "from pint import UnitRegistry\n",
    "\n",
    "# define unit registry\n",
    "ureg = UnitRegistry()\n",
    "\n",
    "# define names\n",
    "sau_name = \"SpaceArbitraryUnit\"\n",
    "tau_name = \"TimeArbitraryUnit\"\n",
    "afau_name = \"AFsArbitraryUnit\"\n",
    "\n",
    "# define arbitrary units for space and time\n",
    "ureg.define(f\"{sau_name} = 1 * mm = sau\")\n",
    "ureg.define(f\"{tau_name} = 26 * min = tau\")\n",
    "\n",
    "# define arbitrary units\n",
    "sim_s_au = 1 * ureg.mm\n",
    "sim_t_au = 26 * ureg.min\n",
    "sim_af_au = 1 * ureg(\"ng / mL\")\n",
    "ureg.define(f\"{afau_name} = {sim_af_au} = afau\")\n",
    "\n",
    "# add arbitrary units to dataframe\n",
    "parameters_df = fill_parameters(parameters_df,\n",
    "                                name=sau_name,\n",
    "                                real_value=sim_s_au.magnitude,\n",
    "                                real_um=sim_s_au.units,\n",
    "                                sim_value=sim_s_au.to(\"sau\").magnitude,\n",
    "                                sim_um=sim_s_au.to(\"sau\").units)\n",
    "parameters_df = fill_parameters(parameters_df,\n",
    "                                name=tau_name,\n",
    "                                real_value=sim_t_au.magnitude,\n",
    "                                real_um=sim_t_au.units,\n",
    "                                sim_value=sim_t_au.to(\"tau\").magnitude,\n",
    "                                sim_um=sim_t_au.to(\"tau\").units)\n",
    "parameters_df = fill_parameters(parameters_df,\n",
    "                                name=afau_name,\n",
    "                                real_value=sim_af_au.magnitude,\n",
    "                                real_um=sim_af_au.units,\n",
    "                                sim_value=1,\n",
    "                                sim_um=\"afau\")"
   ]
  },
  {
   "cell_type": "markdown",
   "metadata": {
    "collapsed": false,
    "jupyter": {
     "outputs_hidden": false
    }
   },
   "source": [
    "In the following, we briefly discuss the derivation for each parameter.\n",
    "\n",
    "> Note: some parameters' name might change from the manuscript to this Notebook"
   ]
  },
  {
   "cell_type": "markdown",
   "metadata": {
    "collapsed": false,
    "jupyter": {
     "outputs_hidden": false
    }
   },
   "source": [
    "## Angiogenic factor (af) parameters\n",
    "\n",
    "In our model we assume that the angiogenic factors (af) are generated by hypoxic cells distributed in the domain outside the capillaries. Following what proposed by Travasso and collaeagues, we assume that the af distribution is regulated by the following PDE:\n",
    "\n",
    "$$\n",
    "\\begin{align}\n",
    "\\frac{\\partial af}{\\partial t} = D_{af}\\nabla^2 af - V_{uC_{af}}\\cdot af \\cdot c \\cdot shf(c)\n",
    "\\end{align}\n",
    "$$\n",
    "\n",
    "Where:\n",
    "- $shf$ is a smooth Heavyside function\n",
    "- $D_{af}$ is the AFs diffusivity\n",
    "- $V_{uC_{af}}$ is the AFs uptake rate by the capillaries\n",
    "\n",
    "So we presume that $af$ is diffusing in the domain, and is consumed by the capillaries. \n",
    "\n",
    "The production of af is due to the hypoxic cells (source cells), which are regulated by the following parameters:\n",
    "- $R_c$, the radius of the hypoxic cells, assumed equal to the one of tip cells (see below).\n",
    "- $n_source_cells0$, the initial number of the source cells.\n",
    "- $source_cells_range$, the range where an hypoxic cell stops being hypoxic for the reach of oxygen.\n",
    "- $af_min$, the value of the angiogenic factors outside the source cells.\n",
    "- $af_max$, the value of the angiogenic factors inside the source cells.\n",
    "\n",
    "We considered the vascular endothelial growth factor (VEGF) as the main reference to estimate AFs parameters."
   ]
  },
  {
   "cell_type": "markdown",
   "metadata": {
    "collapsed": false,
    "jupyter": {
     "outputs_hidden": false
    }
   },
   "source": [
    "### Angiogenic factor diffusivity ($D_{af}$)\n",
    "We could not find a specific experimental value for VEGF diffusivity, but we estimated that from the experimental results of Kihara et al. (2013).\n",
    "\n",
    "Kihara et al. (2013) measured the diffusivity of different peptides, with molecular weights ranging from 3 to 40 kDa. The diffusivity is measured in an actual extracellular matrix condensed by fibroblasts, making the experimental conditions closer to the retinal environment than a simple measure in water or serum.\n",
    "\n",
    "In Table 1 they report the diffusion coefficients for two peptides with a mass close to VEGF:\n",
    "- Alexa488 dextran (which is 10 kDa)\n",
    "- and for FITC dextran (40 kDa)"
   ]
  },
  {
   "cell_type": "code",
   "execution_count": 3,
   "metadata": {
    "collapsed": false,
    "is_executing": true,
    "jupyter": {
     "outputs_hidden": false
    }
   },
   "outputs": [],
   "source": [
    "D_Alexa488_dextran_serum = 81.7 * ureg(\"(um^2) / s\")\n",
    "D_FITC_dextran_serum = 44.7e-6 * ureg(\"(um^2) / s\")"
   ]
  },
  {
   "cell_type": "markdown",
   "metadata": {
    "collapsed": false,
    "jupyter": {
     "outputs_hidden": false
    }
   },
   "source": [
    "In Figure 8 they show that the diffusivity reduction in the extracellular matrix (ECM) compared to serum is quite small (27%), even though statistically significant."
   ]
  },
  {
   "cell_type": "code",
   "execution_count": 4,
   "metadata": {
    "collapsed": false,
    "is_executing": true,
    "jupyter": {
     "outputs_hidden": false
    }
   },
   "outputs": [],
   "source": [
    "D_Alexa488_dextran_matrix = 0.73 * D_Alexa488_dextran_serum\n",
    "D_FITC_dextran_matrix = 0.73 * D_FITC_dextran_serum"
   ]
  },
  {
   "cell_type": "markdown",
   "metadata": {
    "collapsed": false,
    "jupyter": {
     "outputs_hidden": false
    }
   },
   "source": [
    "We emplyed these measure to estimate VEGF diffusivity in retina by linear interpolation between the two values reported above.\n",
    "\n",
    "According to the Uniprot entry for VEGFA (Uiprot ID: P15692) the VEGF isoforms have a molecular weight between 15,981 Da (Isoform VEGF111; identifier: P15692-10) and 45,467 Da (Isoform L-VEGF206; identifier: P15692-14). So we have:"
   ]
  },
  {
   "cell_type": "code",
   "execution_count": 5,
   "metadata": {
    "collapsed": false,
    "is_executing": true,
    "jupyter": {
     "outputs_hidden": false
    }
   },
   "outputs": [
    {
     "name": "stdout",
     "output_type": "stream",
     "text": [
      "VEGF Diffusivity is in range: [1.9e-05 millimeter ** 2 / second, 6.5e-05 millimeter ** 2 / second] millimiters^2 / seconds\n"
     ]
    }
   ],
   "source": [
    "# estimate as a line D = m * mol_w + q\n",
    "m = (D_FITC_dextran_serum - D_Alexa488_dextran_serum) / (40e3 - 10e3)\n",
    "q = D_Alexa488_dextran_serum - (10e3 * m)\n",
    "\n",
    "# max diffusivity: smaller isoform in serum:\n",
    "min_mol_w = 16e3  # Da\n",
    "D_VEGF_max = (m * min_mol_w) + q\n",
    "D_VEGF_max = D_VEGF_max.to(\"(mm^2) / s\")  # convert to compare with others\n",
    "\n",
    "# min diffusivity: bigger isoform in serum\n",
    "max_mol_w = 45e3  # Da\n",
    "D_VEGF_min = 0.73 * (m * max_mol_w) + q\n",
    "D_VEGF_min = D_VEGF_min.to(\"(mm^2) / s\")  # convert to compare with others\n",
    "\n",
    "print(f\"VEGF Diffusivity is in range: [{D_VEGF_min:.2g}, {D_VEGF_max:.2g}] millimiters^2 / seconds\")"
   ]
  },
  {
   "cell_type": "markdown",
   "metadata": {
    "collapsed": false,
    "jupyter": {
     "outputs_hidden": false
    }
   },
   "source": [
    "The range we found agrees with the values provided by the other authors."
   ]
  },
  {
   "cell_type": "code",
   "execution_count": 6,
   "metadata": {
    "collapsed": false,
    "is_executing": true,
    "jupyter": {
     "outputs_hidden": false
    }
   },
   "outputs": [
    {
     "name": "stdout",
     "output_type": "stream",
     "text": [
      "## D_af \n",
      "value:  4.2415938159916675e-05 millimeter ** 2 / second \n",
      "\n"
     ]
    }
   ],
   "source": [
    "D_af = (D_VEGF_min + D_VEGF_max) / 2\n",
    "print(\"## D_af \\n\"\n",
    "      f\"value:  {D_af} \\n\")\n",
    "\n",
    "# add it to dictionary\n",
    "parameters_df = fill_parameters(parameters_df,\n",
    "                                name=\"D_af\",\n",
    "                                info=\"Diffusivity of angiogenic factor\",\n",
    "                                real_value=D_af.magnitude,\n",
    "                                real_um=D_af.units,\n",
    "                                references=\"Estimated from Kihara, T., Ito, J., & Miyake, J. (2013). Measurement of Biomolecular Diffusion in Extracellular Matrix Condensed by Fibroblasts Using Fluorescence Correlation Spectroscopy. PLoS ONE, 8(11), 82382. https://doi.org/10.1371/JOURNAL.PONE.0082382\",\n",
    "                                sim_value=D_af.to(\"sau^2 / tau\").magnitude,\n",
    "                                sim_um=D_af.to(\"sau^2 / tau\").units)"
   ]
  },
  {
   "cell_type": "markdown",
   "metadata": {
    "collapsed": false,
    "jupyter": {
     "outputs_hidden": false
    }
   },
   "source": [
    "### Angiogenic factor uptake in capillaries ($V_{uC_{af}}$)\n",
    "\n",
    "According to Vempati et al. (2014), the degradation rate of VEGF in cellular conditions is:"
   ]
  },
  {
   "cell_type": "code",
   "execution_count": 7,
   "metadata": {
    "collapsed": false,
    "is_executing": true,
    "jupyter": {
     "outputs_hidden": false
    }
   },
   "outputs": [
    {
     "name": "stdout",
     "output_type": "stream",
     "text": [
      "## V_d_af \n",
      "value:  0.918 / hour \n",
      "range:  [0.8280000000000001 / hour, 1.008 / hour]\n"
     ]
    }
   ],
   "source": [
    "## Values reported by Vempati et al. (2014)\n",
    "V_d_af_max = 2.8e-4 * ureg(\"1 / s\")\n",
    "V_d_af_max = V_d_af_max.to(\"1 / hr\")\n",
    "V_d_af_min = 2.3e-4 * ureg(\"1 / s\")\n",
    "V_d_af_min = V_d_af_min.to(\"1 / hr\")\n",
    "\n",
    "# Take the average\n",
    "V_d_af = (V_d_af_max + V_d_af_min) / 2\n",
    "\n",
    "print(f\"## V_d_af \\n\"\n",
    "      f\"value:  {V_d_af} \\n\"\n",
    "      f\"range:  [{V_d_af_min}, {V_d_af_max}]\")"
   ]
  },
  {
   "cell_type": "markdown",
   "metadata": {},
   "source": [
    "It is safe to assume that $V_{uC_{af}}$ is higher than the natural degradation rate of the angiogenic factors. So, we can state:"
   ]
  },
  {
   "cell_type": "code",
   "execution_count": 8,
   "metadata": {
    "ExecuteTime": {
     "end_time": "2023-11-15T09:03:22.494229310Z",
     "start_time": "2023-11-15T09:03:20.939454056Z"
    },
    "collapsed": false,
    "jupyter": {
     "outputs_hidden": false
    }
   },
   "outputs": [
    {
     "name": "stderr",
     "output_type": "stream",
     "text": [
      "/usr/local/lib/python3.10/dist-packages/pandas/core/dtypes/cast.py:1784: UnitStrippedWarning: The unit of the quantity is stripped when downcasting to ndarray.\n",
      "  result[:] = values\n"
     ]
    }
   ],
   "source": [
    "V_uC_af_min = V_d_af_min\n",
    "V_uC_af = 1e2 * V_uC_af_min\n",
    "V_uC_af_max = 1e4 * V_uC_af_min\n",
    "\n",
    "# add it to parameters dict\n",
    "parameters_df = fill_parameters(parameters_df,\n",
    "                                name=\"V_uc_af\",\n",
    "                                info=\"Angiogenic factor uptake in capillaries\",\n",
    "                                real_value=V_uC_af.magnitude,\n",
    "                                real_range_min=V_uC_af_min,\n",
    "                                real_range_max=V_uC_af_max,\n",
    "                                real_um=V_uC_af.units,\n",
    "                                references=\"Estimated by Travasso, R. D. M., Poire, E. C., Castro, M., Rodrguez-Manzaneque, J. C., & Hernandez-Machado, A. (2011). Tumor angiogenesis and vascular patterning: A mathematical model. PLoS ONE, 6(5), e19989. https://doi.org/10.1371/journal.pone.0019989\",\n",
    "                                sim_value=V_uC_af.to(\"1 / tau\").magnitude,\n",
    "                                sim_um=\"1 / tau\",\n",
    "                                sim_range_min=V_uC_af_min.to(\"1 / tau\"),\n",
    "                                sim_range_max=V_uC_af_max.to(\"1 / tau\"))"
   ]
  },
  {
   "cell_type": "markdown",
   "metadata": {},
   "source": [
    "## Initial number of source cells\n",
    "We assume: \n",
    "- $af_min$, the value of the angiogenic factors outside the source cells.\n",
    "- $af_max$, the value of the angiogenic factors inside the source cells."
   ]
  },
  {
   "cell_type": "code",
   "execution_count": 9,
   "metadata": {},
   "outputs": [],
   "source": [
    "n_source_cells = 300\n",
    "\n",
    "parameters_df = fill_parameters(parameters_df,\n",
    "                                name=\"n_source_cells\",\n",
    "                                info=\"Initial number of source cells\",\n",
    "                                real_value=n_source_cells,\n",
    "                                real_um=\"[adim]\",\n",
    "                                references=\"\",\n",
    "                                sim_value=n_source_cells,\n",
    "                                sim_um=\"[adim]\")"
   ]
  },
  {
   "cell_type": "markdown",
   "metadata": {},
   "source": [
    "## Source cells range\n",
    "Following Travasso et al. (2011), we assume: "
   ]
  },
  {
   "cell_type": "code",
   "execution_count": 10,
   "metadata": {},
   "outputs": [],
   "source": [
    "source_cells_range = 0.025 * ureg.mm\n",
    "\n",
    "parameters_df = fill_parameters(parameters_df,\n",
    "                                name=\"source_cells_range\",\n",
    "                                info=\"Deactivation range for the hypoxic (source) cells\",\n",
    "                                real_value=source_cells_range.magnitude,\n",
    "                                real_um=source_cells_range.units,\n",
    "                                references=\"Estimated by Travasso, R. D. M., Poire, E. C., Castro, M., Rodrguez-Manzaneque, J. C., & Hernandez-Machado, A. (2011). Tumor angiogenesis and vascular patterning: A mathematical model. PLoS ONE, 6(5), e19989. https://doi.org/10.1371/journal.pone.0019989\",\n",
    "                                sim_value=source_cells_range.to(\"sau\").magnitude,\n",
    "                                sim_um=\"sau\")"
   ]
  },
  {
   "cell_type": "markdown",
   "metadata": {},
   "source": [
    "## Max and Min value for the angiogenic factors (af)\n",
    "We assume: "
   ]
  },
  {
   "cell_type": "code",
   "execution_count": 11,
   "metadata": {},
   "outputs": [],
   "source": [
    "af_min_real = 0 * ureg(\"ng / mL\")\n",
    "af_min_sim = af_min_real.to(\"afau\")\n",
    "af_max_real = 10 * ureg(\"ng / mL\")\n",
    "af_max_sim = af_max_real.to(\"afau\")\n",
    "\n",
    "parameters_df = fill_parameters(parameters_df,\n",
    "                                name=\"af_min\",\n",
    "                                info=\" Min value for angiogenic factor (outside hypoxic cells)\",\n",
    "                                real_value=af_min_real.magnitude,\n",
    "                                real_um=af_min_real.units,\n",
    "                                references=\"Estimated by Travasso, R. D. M., Poire, E. C., Castro, M., Rodrguez-Manzaneque, J. C., & Hernandez-Machado, A. (2011). Tumor angiogenesis and vascular patterning: A mathematical model. PLoS ONE, 6(5), e19989. https://doi.org/10.1371/journal.pone.0019989\",\n",
    "                                sim_value=af_min_sim.magnitude,\n",
    "                                sim_um=af_min_sim.units)\n",
    "\n",
    "parameters_df = fill_parameters(parameters_df,\n",
    "                                name=\"af_max\",\n",
    "                                info=\" Max value for angiogenic factor (inside hypoxic cells)\",\n",
    "                                real_value=af_max_real.magnitude,\n",
    "                                real_um=af_max_real.units,\n",
    "                                references=\"Estimated by Travasso, R. D. M., Poire, E. C., Castro, M., Rodrguez-Manzaneque, J. C., & Hernandez-Machado, A. (2011). Tumor angiogenesis and vascular patterning: A mathematical model. PLoS ONE, 6(5), e19989. https://doi.org/10.1371/journal.pone.0019989\",\n",
    "                                sim_value=af_max_sim.magnitude,\n",
    "                                sim_um=af_max_sim.units)"
   ]
  },
  {
   "cell_type": "markdown",
   "metadata": {
    "collapsed": false,
    "jupyter": {
     "outputs_hidden": false
    }
   },
   "source": [
    "## Angiogenesis parameters\n",
    "\n",
    "### Cell radius ($R_c$)\n",
    "\n",
    "For the cell radius we assumed half of the maximum value provided by Bionumbers (Milo et al., 2010) at the ID 100432, which is:"
   ]
  },
  {
   "cell_type": "code",
   "execution_count": 12,
   "metadata": {
    "ExecuteTime": {
     "end_time": "2023-11-15T09:03:22.494772104Z",
     "start_time": "2023-11-15T09:03:20.982358493Z"
    },
    "collapsed": false,
    "jupyter": {
     "outputs_hidden": false
    }
   },
   "outputs": [
    {
     "name": "stdout",
     "output_type": "stream",
     "text": [
      "R_c: 10 micrometer\n"
     ]
    }
   ],
   "source": [
    "R_c = 10 * ureg.um\n",
    "\n",
    "print(f\"R_c: {R_c}\")\n",
    "\n",
    "# add it to parameters dict\n",
    "parameters_df = fill_parameters(parameters_df,\n",
    "                                name=\"R_c\",\n",
    "                                info=\"Cell radius\",\n",
    "                                real_value=R_c.magnitude,\n",
    "                                real_um=R_c.units,\n",
    "                                references=\"Milo et al. Nucl. Acids Res. (2010) 38 (suppl 1): D750-D753.; ID: 100432\",\n",
    "                                sim_value=R_c.to(\"sau\").magnitude,\n",
    "                                sim_um=R_c.to(\"sau\").units)"
   ]
  },
  {
   "cell_type": "markdown",
   "metadata": {
    "collapsed": false,
    "jupyter": {
     "outputs_hidden": false
    }
   },
   "source": [
    "This value also agrees with the endothelial cells dimension which can be inferred from the pictures reported by Shamloo, A. et al. (2008) (see Fig. 5A and 5B)."
   ]
  },
  {
   "cell_type": "markdown",
   "metadata": {
    "collapsed": false,
    "jupyter": {
     "outputs_hidden": false
    }
   },
   "source": [
    "### Interface width of the capillaries ($\\epsilon$)\n",
    "\n",
    "The capillaries phase field model depends on a parameters $\\epsilon$, regulating the interfacial width between the capillary and the surrounding tissue. We use the same value used by Travasso et al. (2011):"
   ]
  },
  {
   "cell_type": "code",
   "execution_count": 13,
   "metadata": {
    "ExecuteTime": {
     "end_time": "2023-11-15T09:03:22.495144634Z",
     "start_time": "2023-11-15T09:03:20.982542428Z"
    },
    "collapsed": false,
    "jupyter": {
     "outputs_hidden": false
    }
   },
   "outputs": [
    {
     "name": "stdout",
     "output_type": "stream",
     "text": [
      "epsilon: 1.6 micrometer ** 2\n",
      "         1.6e-06 SpaceArbitraryUnit ** 2\n"
     ]
    }
   ],
   "source": [
    "epsilon = (1.25 ** 2) * (ureg.um ** 2)  # notice: in Travasso provided as 'um' but it is probably an error\n",
    "\n",
    "epsilon_real = epsilon\n",
    "epsilon_sim = epsilon.to('sau ** 2')\n",
    "print(f\"epsilon: {epsilon_real:.2g}\\n\"\n",
    "      f\"         {epsilon_sim:.2g}\")"
   ]
  },
  {
   "cell_type": "code",
   "execution_count": 14,
   "metadata": {
    "ExecuteTime": {
     "end_time": "2023-11-15T09:03:22.495319229Z",
     "start_time": "2023-11-15T09:03:20.982656721Z"
    },
    "collapsed": false,
    "jupyter": {
     "outputs_hidden": false
    }
   },
   "outputs": [],
   "source": [
    "# add it to parameters\n",
    "parameters_df = fill_parameters(parameters_df,\n",
    "                                name=\"epsilon\",\n",
    "                                info=\"Interface width\",\n",
    "                                real_value=epsilon_real.magnitude,\n",
    "                                real_um=epsilon_real.units,\n",
    "                                references=\"Same provied by Travasso, R. D. M., Poire, E. C., Castro, M., Rodrguez-Manzaneque, J. C., & Hernandez-Machado, A. (2011). Tumor angiogenesis and vascular patterning: A mathematical model. PLoS ONE, 6(5), e19989. https://doi.org/10.1371/journal.pone.0019989\",\n",
    "                                sim_value=epsilon_sim.magnitude,\n",
    "                                sim_um=epsilon_sim.units)"
   ]
  },
  {
   "cell_type": "markdown",
   "metadata": {
    "collapsed": false,
    "jupyter": {
     "outputs_hidden": false
    }
   },
   "source": [
    "### Time step ($dt$)\n",
    "The simulation time step is a parameter of the angiogenesis model because it regulates the frequency of tip cell activation. Indeed, at each time step maximum one tip cell can activate. We assume $dt$ to be the same as the arbitrary time unit:"
   ]
  },
  {
   "cell_type": "code",
   "execution_count": 15,
   "metadata": {
    "ExecuteTime": {
     "end_time": "2023-11-15T09:03:22.495636887Z",
     "start_time": "2023-11-15T09:03:20.982755994Z"
    },
    "collapsed": false,
    "jupyter": {
     "outputs_hidden": false
    }
   },
   "outputs": [
    {
     "name": "stdout",
     "output_type": "stream",
     "text": [
      "dt: 26 minute\n"
     ]
    }
   ],
   "source": [
    "dt = sim_t_au\n",
    "print(f\"dt: {dt}\")"
   ]
  },
  {
   "cell_type": "markdown",
   "metadata": {
    "collapsed": false,
    "jupyter": {
     "outputs_hidden": false
    }
   },
   "source": [
    "This makes sure that the activation of new tip cells does not lead to discontinuous capillaries, because the maximum cell displacement (i.e. the maximum tip cells' velocity times $dt$) is lower than a TC radius (see section regarding $G_M$)"
   ]
  },
  {
   "cell_type": "code",
   "execution_count": 16,
   "metadata": {
    "ExecuteTime": {
     "end_time": "2023-11-15T09:03:22.495749880Z",
     "start_time": "2023-11-15T09:03:20.982868347Z"
    },
    "collapsed": false,
    "jupyter": {
     "outputs_hidden": false
    }
   },
   "outputs": [],
   "source": [
    "parameters_df = fill_parameters(parameters_df,\n",
    "                                name=\"dt\",\n",
    "                                info=\"Simulation time step\",\n",
    "                                real_value=dt.magnitude,\n",
    "                                real_um=dt.units,\n",
    "                                references=\"Same provied by Travasso, R. D. M., Poire, E. C., Castro, M., Rodrguez-Manzaneque, J. C., & Hernandez-Machado, A. (2011). Tumor angiogenesis and vascular patterning: A mathematical model. PLoS ONE, 6(5), e19989. https://doi.org/10.1371/journal.pone.0019989\",\n",
    "                                sim_value=dt.to(\"tau\").magnitude,\n",
    "                                sim_um=dt.to(\"tau\").units)"
   ]
  },
  {
   "cell_type": "markdown",
   "metadata": {
    "collapsed": false,
    "jupyter": {
     "outputs_hidden": false
    }
   },
   "source": [
    "### Angiogenic factor value for maximum proliferation ($T_p$)\n",
    "Song, M. & Finley, S. D. (2022), report that endothelial cells reach their maximum proliferation potential for a VEGF concentration of $1 [\\frac{ng}{mL}]$."
   ]
  },
  {
   "cell_type": "code",
   "execution_count": 17,
   "metadata": {
    "ExecuteTime": {
     "end_time": "2023-11-15T09:03:22.495838933Z",
     "start_time": "2023-11-15T09:03:20.983043302Z"
    },
    "collapsed": false,
    "jupyter": {
     "outputs_hidden": false
    }
   },
   "outputs": [],
   "source": [
    "T_p_real = 1 * ureg(\"ng / mL\")"
   ]
  },
  {
   "cell_type": "markdown",
   "metadata": {
    "collapsed": false,
    "jupyter": {
     "outputs_hidden": false
    }
   },
   "source": [
    "This value allowed them to obtain results comparable with angiogenic experiments. Thus, we kept the same."
   ]
  },
  {
   "cell_type": "code",
   "execution_count": 18,
   "metadata": {
    "ExecuteTime": {
     "end_time": "2023-11-15T09:03:22.495928065Z",
     "start_time": "2023-11-15T09:03:20.983140344Z"
    },
    "collapsed": false,
    "jupyter": {
     "outputs_hidden": false
    }
   },
   "outputs": [],
   "source": [
    "T_p_sim = T_p_real.to(\"afau\")\n",
    "\n",
    "parameters_df = fill_parameters(parameters_df,\n",
    "                                name=\"T_p\",\n",
    "                                info=\"Angiogenic factor concentration for maximum proliferation\",\n",
    "                                real_value=T_p_real.magnitude,\n",
    "                                real_um=T_p_real.units,\n",
    "                                references=\"None\",\n",
    "                                sim_value=T_p_sim.magnitude,\n",
    "                                sim_um=T_p_sim.units)"
   ]
  },
  {
   "cell_type": "markdown",
   "metadata": {
    "collapsed": false,
    "jupyter": {
     "outputs_hidden": false
    }
   },
   "source": [
    "### Endothelial cells proliferation rate ($\\alpha_p$)\n",
    "\n",
    "Based on the measures by Tracqui, P. (2005), Travasso et al. (2011) estimated a normal value for the maximum proliferation rate of endothelial cells to be:\n"
   ]
  },
  {
   "cell_type": "code",
   "execution_count": 19,
   "metadata": {
    "ExecuteTime": {
     "end_time": "2023-11-15T09:03:22.496015978Z",
     "start_time": "2023-11-15T09:03:20.984483910Z"
    },
    "collapsed": false,
    "jupyter": {
     "outputs_hidden": false
    }
   },
   "outputs": [],
   "source": [
    "endothelial_cells_proliferation_rate = 0.97 * (1 / ureg.hr)"
   ]
  },
  {
   "cell_type": "markdown",
   "metadata": {
    "collapsed": false,
    "jupyter": {
     "outputs_hidden": false
    }
   },
   "source": [
    "Pairing this value to the *in silico* maximum proliferation rate, which is $\\alpha_p T_p$, we get:"
   ]
  },
  {
   "cell_type": "code",
   "execution_count": 20,
   "metadata": {
    "ExecuteTime": {
     "end_time": "2023-11-15T09:03:22.496201022Z",
     "start_time": "2023-11-15T09:03:21.026343540Z"
    },
    "collapsed": false,
    "jupyter": {
     "outputs_hidden": false
    }
   },
   "outputs": [
    {
     "name": "stdout",
     "output_type": "stream",
     "text": [
      "alpha_p: 0.42 / AFsArbitraryUnit / TimeArbitraryUnit\n"
     ]
    }
   ],
   "source": [
    "alpha_p = endothelial_cells_proliferation_rate.to(\"1 / tau\") / T_p_sim\n",
    "alpha_p = alpha_p.to(\"1 / (tau * afau)\")\n",
    "print(f\"alpha_p: {alpha_p:.2g}\")"
   ]
  },
  {
   "cell_type": "code",
   "execution_count": 21,
   "metadata": {
    "ExecuteTime": {
     "end_time": "2023-11-15T09:03:22.496307535Z",
     "start_time": "2023-11-15T09:03:21.026531185Z"
    },
    "collapsed": false,
    "jupyter": {
     "outputs_hidden": false
    }
   },
   "outputs": [],
   "source": [
    "alpha_p_real = alpha_p.to(\"(mL / pg) * (1 / hr)\")\n",
    "alpha_p_sim = alpha_p"
   ]
  },
  {
   "cell_type": "code",
   "execution_count": 22,
   "metadata": {
    "ExecuteTime": {
     "end_time": "2023-11-15T09:03:22.496398438Z",
     "start_time": "2023-11-15T09:03:21.026631338Z"
    },
    "collapsed": false,
    "jupyter": {
     "outputs_hidden": false
    }
   },
   "outputs": [],
   "source": [
    "parameters_df = fill_parameters(parameters_df,\n",
    "                                name=\"alpha_p\",\n",
    "                                info=\"Stalk cells proliferation rate\",\n",
    "                                real_value=alpha_p_real.magnitude,\n",
    "                                real_um=alpha_p_real.units,\n",
    "                                sim_value=alpha_p_sim.magnitude,\n",
    "                                sim_um=alpha_p_sim.units)"
   ]
  },
  {
   "cell_type": "markdown",
   "metadata": {},
   "source": [
    "Here we also separate the proliferation rate of the stalk cells from the proliferation rate of the endothelial cells of the capillaries:"
   ]
  },
  {
   "cell_type": "code",
   "execution_count": 23,
   "metadata": {},
   "outputs": [],
   "source": [
    "parameters_df = fill_parameters(parameters_df,\n",
    "                                name=\"alpha_pc\",\n",
    "                                info=\"Endothelial cells proliferation rate\",\n",
    "                                real_value=alpha_p_real.magnitude,\n",
    "                                real_um=alpha_p_real.units,\n",
    "                                sim_value=alpha_p_sim.magnitude,\n",
    "                                sim_um=alpha_p_sim.units)"
   ]
  },
  {
   "cell_type": "markdown",
   "metadata": {
    "collapsed": false,
    "jupyter": {
     "outputs_hidden": false
    }
   },
   "source": [
    "### Minimum angiogenic factor concentration for tip cells activation ($T_c$)\n",
    "\n",
    "Despite difficult to measure, a threshold in AF concentration for tip cell activation is likely to exist, since they need to bind to cellular surface receptors to influence cells behaviour. Song M. & Finley S.D. (2022) observed a shift in VEGF-mediated sprouting angiogenesis in correspondence of a VEGF concentration of $3 [\\frac{ng}{mL}]$:"
   ]
  },
  {
   "cell_type": "code",
   "execution_count": 24,
   "metadata": {
    "ExecuteTime": {
     "end_time": "2023-11-15T09:03:22.497079886Z",
     "start_time": "2023-11-15T09:03:21.027058879Z"
    },
    "collapsed": false,
    "jupyter": {
     "outputs_hidden": false
    }
   },
   "outputs": [
    {
     "name": "stdout",
     "output_type": "stream",
     "text": [
      "T_c: 3.0 nanogram / milliliter (real) | 3.000000000000001 AFsArbitraryUnit (sim)\n"
     ]
    }
   ],
   "source": [
    "T_c_real = 3 * ureg(\"ng / mL\")\n",
    "T_c_sim = T_c_real.to(\"afau\")\n",
    "\n",
    "print(f\"T_c: {T_c_real} (real) | {T_c_sim} (sim)\")\n",
    "\n",
    "parameters_df = fill_parameters(parameters_df,\n",
    "                                name=\"T_c\",\n",
    "                                info=\"Minimum af for Tip Cells Activation\",\n",
    "                                real_value=T_c_real.magnitude,\n",
    "                                real_um=T_c_real.units,\n",
    "                                sim_value=T_c_sim.magnitude,\n",
    "                                sim_um=T_c_sim.units,\n",
    "                                references=\"Song, M. & Finley, S.D.Mechanistic characterization of endothelial sprouting mediated by pro-angiogenic signaling. Microcirculation 29, e12744(2022).\")"
   ]
  },
  {
   "cell_type": "markdown",
   "metadata": {
    "collapsed": false,
    "jupyter": {
     "outputs_hidden": false
    }
   },
   "source": [
    "### Mimimum angiogenic factor gradient for Tip Cells activation ($G_m$)\n",
    "From Shamloo et al (2008) we have:"
   ]
  },
  {
   "cell_type": "code",
   "execution_count": 25,
   "metadata": {
    "ExecuteTime": {
     "end_time": "2023-11-15T09:03:22.497281881Z",
     "start_time": "2023-11-15T09:03:21.070365787Z"
    },
    "collapsed": false,
    "jupyter": {
     "outputs_hidden": false
    }
   },
   "outputs": [
    {
     "name": "stdout",
     "output_type": "stream",
     "text": [
      "## G_m\n",
      "real: 14.0 nanogram / milliliter / millimeter\n",
      "sim : 14.000000000000004 AFsArbitraryUnit / SpaceArbitraryUnit\n"
     ]
    }
   ],
   "source": [
    "G_m_real = 14 * ureg(\"ng / (mL * mm)\")\n",
    "# converting to arbitrary units:\n",
    "G_m_sim = G_m_real.to(\"afau / sau\")\n",
    "print(f\"## G_m\\n\"\n",
    "      f\"real: {G_m_real}\\n\"\n",
    "      f\"sim : {G_m_sim}\")"
   ]
  },
  {
   "cell_type": "code",
   "execution_count": 26,
   "metadata": {
    "ExecuteTime": {
     "end_time": "2023-11-15T09:03:22.497373344Z",
     "start_time": "2023-11-15T09:03:21.070573543Z"
    },
    "collapsed": false,
    "jupyter": {
     "outputs_hidden": false
    }
   },
   "outputs": [],
   "source": [
    "parameters_df = fill_parameters(parameters_df,\n",
    "                                name=\"G_m\",\n",
    "                                info=\"Minimum af gradient required for Tip Cells Activation\",\n",
    "                                real_value=G_m_real.magnitude,\n",
    "                                real_um=G_m_real.units,\n",
    "                                sim_value=G_m_sim.magnitude,\n",
    "                                sim_um=G_m_sim.units,\n",
    "                                references=\"Shamloo, A., Ma, N., Poo, M. M., Sohn, L. L., & Heilshorn, S. C. (2008). Endothelial cell polarization and chemotaxis in a microfluidic device. Lab on a Chip, 8(8), 1292-1299. https://doi.org/10.1039/B719788H\")"
   ]
  },
  {
   "cell_type": "markdown",
   "metadata": {
    "collapsed": false,
    "jupyter": {
     "outputs_hidden": false
    }
   },
   "source": [
    "### Minimum value for capillaries field c to allow Tip Cells activation ($\\varphi_{th}$)\n",
    "\n",
    "Tip cells can originate only inside the already formed capillaries. Thus, we set:"
   ]
  },
  {
   "cell_type": "code",
   "execution_count": 27,
   "metadata": {
    "ExecuteTime": {
     "end_time": "2023-11-15T09:03:22.497462286Z",
     "start_time": "2023-11-15T09:03:21.070676986Z"
    },
    "collapsed": false,
    "jupyter": {
     "outputs_hidden": false
    }
   },
   "outputs": [],
   "source": [
    "phi_th = 0.9"
   ]
  },
  {
   "cell_type": "markdown",
   "metadata": {
    "collapsed": false,
    "jupyter": {
     "outputs_hidden": false
    }
   },
   "source": [
    "And have:"
   ]
  },
  {
   "cell_type": "code",
   "execution_count": 28,
   "metadata": {
    "ExecuteTime": {
     "end_time": "2023-11-15T09:03:22.497549259Z",
     "start_time": "2023-11-15T09:03:21.070771998Z"
    },
    "collapsed": false,
    "jupyter": {
     "outputs_hidden": false
    }
   },
   "outputs": [],
   "source": [
    "parameters_df = fill_parameters(parameters_df,\n",
    "                                name=\"phi_th\",\n",
    "                                info=\"Minimum capillaries field value for Tip Cells activation\",\n",
    "                                sim_value=phi_th)"
   ]
  },
  {
   "cell_type": "markdown",
   "metadata": {
    "collapsed": false,
    "jupyter": {
     "outputs_hidden": false
    }
   },
   "source": [
    "### Gradient for maximum tip cells velocity ($G_M$)\n",
    "According to Travasso et al. (2011):"
   ]
  },
  {
   "cell_type": "code",
   "execution_count": 29,
   "metadata": {
    "ExecuteTime": {
     "end_time": "2023-11-15T09:03:22.497742284Z",
     "start_time": "2023-11-15T09:03:21.070870601Z"
    },
    "collapsed": false,
    "jupyter": {
     "outputs_hidden": false
    }
   },
   "outputs": [
    {
     "name": "stdout",
     "output_type": "stream",
     "text": [
      "G_M: \n",
      "     (real) 42 nanogram / milliliter / millimeter\n",
      "     (sim)  42 AFsArbitraryUnit / SpaceArbitraryUnit\n"
     ]
    }
   ],
   "source": [
    "G_M_real = 3 * G_m_real\n",
    "G_M_sim = 3 * G_m_sim\n",
    "\n",
    "print(f\"G_M: \\n\"\n",
    "      f\"     (real) {G_M_real:.2g}\\n\"\n",
    "      f\"     (sim)  {G_M_sim:.2g}\")"
   ]
  },
  {
   "cell_type": "markdown",
   "metadata": {
    "collapsed": false,
    "jupyter": {
     "outputs_hidden": false
    }
   },
   "source": [
    "This value is estimated by Stokes et al. (1991):"
   ]
  },
  {
   "cell_type": "code",
   "execution_count": 30,
   "metadata": {
    "ExecuteTime": {
     "end_time": "2023-11-15T09:03:22.497832996Z",
     "start_time": "2023-11-15T09:03:21.071039985Z"
    },
    "collapsed": false,
    "jupyter": {
     "outputs_hidden": false
    }
   },
   "outputs": [],
   "source": [
    "parameters_df = fill_parameters(parameters_df,\n",
    "                                name=\"G_M\",\n",
    "                                info=\"af gradient for maximum tip cells velocity\",\n",
    "                                real_value=G_M_real.magnitude,\n",
    "                                real_um=G_M_real.units,\n",
    "                                sim_value=G_M_sim.magnitude,\n",
    "                                sim_um=G_M_sim.units)"
   ]
  },
  {
   "cell_type": "markdown",
   "metadata": {
    "collapsed": false,
    "jupyter": {
     "outputs_hidden": false
    }
   },
   "source": [
    "### Extreme values for capillaries field ($\\varphi_{min}$ and $\\varphi_{max}$)\n",
    "\n",
    "For the system construction, these values are just 1 and -1:"
   ]
  },
  {
   "cell_type": "code",
   "execution_count": 31,
   "metadata": {
    "ExecuteTime": {
     "end_time": "2023-11-15T09:03:22.497917978Z",
     "start_time": "2023-11-15T09:03:21.080759665Z"
    },
    "collapsed": false,
    "jupyter": {
     "outputs_hidden": false
    }
   },
   "outputs": [],
   "source": [
    "phi_min = -1  # define minimum phi value\n",
    "\n",
    "# add it to parameters\n",
    "parameters_df = fill_parameters(parameters_df,\n",
    "                                name=\"phi_min\",\n",
    "                                info=\"Min capillaries field value\",\n",
    "                                sim_value=phi_min)\n",
    "\n",
    "phi_max = 1  # define maximum phi value\n",
    "\n",
    "# add it to parameters\n",
    "parameters_df = fill_parameters(parameters_df,\n",
    "                                name=\"phi_max\",\n",
    "                                info=\"Max capillaries field value\",\n",
    "                                sim_value=phi_max)"
   ]
  },
  {
   "cell_type": "markdown",
   "metadata": {
    "collapsed": false,
    "jupyter": {
     "outputs_hidden": false
    }
   },
   "source": [
    "### Motility value for capillaries phase field ($M$)\n",
    "\n",
    "Travasso et al. assume this value to be $10^{-15} [\\frac{m^2}{s}]$. We assume the same:"
   ]
  },
  {
   "cell_type": "code",
   "execution_count": 32,
   "metadata": {
    "ExecuteTime": {
     "end_time": "2023-11-15T09:03:22.498822823Z",
     "start_time": "2023-11-15T09:03:21.084245779Z"
    },
    "collapsed": false,
    "jupyter": {
     "outputs_hidden": false
    }
   },
   "outputs": [],
   "source": [
    "M_real = 1e-15 * ureg(\"m ** 2 / s\")\n",
    "M_real = M_real.to(\"mm ** 2 / s\")\n",
    "M_sim = M_real.to(\"sau ** 2 / tau\")\n",
    "\n",
    "parameters_df = fill_parameters(parameters_df,\n",
    "                                name=\"M\",\n",
    "                                info=\"'Motility' for the capillaries phase field\",\n",
    "                                real_value=M_real.magnitude,\n",
    "                                real_um=M_real.units,\n",
    "                                sim_value=M_sim.magnitude,\n",
    "                                sim_um=M_sim.units)"
   ]
  },
  {
   "cell_type": "markdown",
   "metadata": {
    "collapsed": false,
    "jupyter": {
     "outputs_hidden": false
    }
   },
   "source": [
    "### Chemotactic coefficient for tip cells ($\\chi$)\n",
    "\n",
    "Travasso assumes that the maximum tip cells velocity is in the order of (Figure 1; Travasso et al. 2011):"
   ]
  },
  {
   "cell_type": "code",
   "execution_count": 33,
   "metadata": {
    "ExecuteTime": {
     "end_time": "2023-11-15T09:03:22.499062539Z",
     "start_time": "2023-11-15T09:03:21.126339863Z"
    },
    "collapsed": false,
    "jupyter": {
     "outputs_hidden": false
    }
   },
   "outputs": [
    {
     "name": "stdout",
     "output_type": "stream",
     "text": [
      "max tip cells velocity (real): 0.35 micrometer / minute\n",
      "max tip cells velocity (sim): 0.0091 SpaceArbitraryUnit / TimeArbitraryUnit\n"
     ]
    }
   ],
   "source": [
    "max_tip_cells_velocity_real = 0.35 * (ureg.um / ureg.min)\n",
    "print(f\"max tip cells velocity (real): {max_tip_cells_velocity_real:.2g}\")\n",
    "max_tip_cells_velocity_sim = max_tip_cells_velocity_real.to(\"sau / tau\")\n",
    "print(f\"max tip cells velocity (sim): {max_tip_cells_velocity_sim:.2g}\")"
   ]
  },
  {
   "cell_type": "markdown",
   "metadata": {
    "collapsed": false,
    "jupyter": {
     "outputs_hidden": false
    }
   },
   "source": [
    "And recent experiments confirm this result. Blinder Y.J. et al. (2015) report an average tip cell velocity of $17 \\frac{\\mu m}{hr} =  0.28 \\frac{\\mu m}{min}$."
   ]
  },
  {
   "cell_type": "markdown",
   "metadata": {
    "collapsed": false,
    "jupyter": {
     "outputs_hidden": false
    }
   },
   "source": [
    "This leads to a $\\chi$ value of:"
   ]
  },
  {
   "cell_type": "code",
   "execution_count": 34,
   "metadata": {
    "ExecuteTime": {
     "end_time": "2023-11-15T09:03:22.499266864Z",
     "start_time": "2023-11-15T09:03:21.126515008Z"
    },
    "collapsed": false,
    "jupyter": {
     "outputs_hidden": false
    }
   },
   "outputs": [
    {
     "name": "stdout",
     "output_type": "stream",
     "text": [
      "chi (sim): 0.00022 SpaceArbitraryUnit ** 2 / AFsArbitraryUnit / TimeArbitraryUnit\n",
      "chi (real): 0.0083 micrometer * milliliter * millimeter / minute / nanogram\n"
     ]
    }
   ],
   "source": [
    "chi_sim = max_tip_cells_velocity_sim / G_M_sim\n",
    "print(f\"chi (sim): {chi_sim:.2g}\")\n",
    "chi_real = max_tip_cells_velocity_real / G_M_real\n",
    "print(f\"chi (real): {chi_real:.2g}\")"
   ]
  },
  {
   "cell_type": "code",
   "execution_count": 35,
   "metadata": {
    "ExecuteTime": {
     "end_time": "2023-11-15T09:03:22.499358477Z",
     "start_time": "2023-11-15T09:03:21.126625181Z"
    },
    "collapsed": false,
    "jupyter": {
     "outputs_hidden": false
    }
   },
   "outputs": [],
   "source": [
    "parameters_df = fill_parameters(parameters_df,\n",
    "                                name=\"chi\",\n",
    "                                info=\"chemotactic constant for tip cells\",\n",
    "                                real_value=chi_real.magnitude,\n",
    "                                real_um=chi_real.units,\n",
    "                                sim_value=chi_sim.magnitude,\n",
    "                                sim_um=chi_sim.units)"
   ]
  },
  {
   "cell_type": "markdown",
   "metadata": {
    "collapsed": false,
    "jupyter": {
     "outputs_hidden": false
    }
   },
   "source": [
    "### Minimum Tip Cells distance\n",
    "The generation of new Tip Cells is inhibited by other Tip Cells due to the Notch Pathway. This mechanism prevents the formation of two neighbor tip cells, thus, Travasso et al. (2011) assumed that exists a minimum distance for the activation of two tip cells equal to 4 cell radiuses:"
   ]
  },
  {
   "cell_type": "code",
   "execution_count": 36,
   "metadata": {
    "ExecuteTime": {
     "end_time": "2023-11-15T09:03:22.499548822Z",
     "start_time": "2023-11-15T09:03:21.126720803Z"
    },
    "collapsed": false,
    "jupyter": {
     "outputs_hidden": false
    }
   },
   "outputs": [
    {
     "name": "stdout",
     "output_type": "stream",
     "text": [
      "min tipcell distance: \n",
      "                      (real) 40 micrometer\n",
      "                      (sim)  0.04 SpaceArbitraryUnit\n"
     ]
    }
   ],
   "source": [
    "min_tipcell_distance_real = 4 * R_c\n",
    "min_tipcell_distance_sim = min_tipcell_distance_real.to(\"sau\")\n",
    "\n",
    "print(f\"min tipcell distance: \\n\"\n",
    "      f\"                      (real) {min_tipcell_distance_real:.2g}\\n\"\n",
    "      f\"                      (sim)  {min_tipcell_distance_sim:.2g}\")"
   ]
  },
  {
   "cell_type": "code",
   "execution_count": 37,
   "metadata": {
    "ExecuteTime": {
     "end_time": "2023-11-15T09:03:22.499640284Z",
     "start_time": "2023-11-15T09:03:21.126882728Z"
    },
    "collapsed": false,
    "jupyter": {
     "outputs_hidden": false
    }
   },
   "outputs": [],
   "source": [
    "parameters_df = fill_parameters(parameters_df,\n",
    "                                name=\"min_tipcell_distance\",\n",
    "                                info=\"Min Tip Cells distance (due to Notch pathway)\",\n",
    "                                real_value=min_tipcell_distance_real.magnitude,\n",
    "                                real_um=min_tipcell_distance_real.units,\n",
    "                                sim_value=min_tipcell_distance_sim.magnitude,\n",
    "                                sim_um=min_tipcell_distance_sim.units)"
   ]
  },
  {
   "cell_type": "markdown",
   "metadata": {},
   "source": [
    "## Tip Cell Frequency\n"
   ]
  },
  {
   "cell_type": "code",
   "execution_count": 38,
   "metadata": {},
   "outputs": [],
   "source": [
    "tc_freq_sim = 1 * ureg(\"1 / tau\")\n",
    "tc_freq_real = tc_freq_sim.to(\"1 / hours\")\n",
    "\n",
    "\n",
    "parameters_df = fill_parameters(parameters_df,\n",
    "                                name=\"tc_freq\",\n",
    "                                info=\"Frequency of TC activation\",\n",
    "                                real_value=tc_freq_real.magnitude,\n",
    "                                real_um=tc_freq_real.units,\n",
    "                                sim_value=tc_freq_sim.magnitude,\n",
    "                                sim_um=tc_freq_sim.units)"
   ]
  },
  {
   "cell_type": "markdown",
   "metadata": {
    "collapsed": false,
    "jupyter": {
     "outputs_hidden": false
    }
   },
   "source": [
    "# Complete parameters\n",
    "The complete parameters table is:"
   ]
  },
  {
   "cell_type": "code",
   "execution_count": 39,
   "metadata": {
    "ExecuteTime": {
     "end_time": "2023-11-15T09:03:22.502050349Z",
     "start_time": "2023-11-15T09:03:21.164328419Z"
    },
    "collapsed": false,
    "jupyter": {
     "outputs_hidden": false
    }
   },
   "outputs": [
    {
     "data": {
      "text/html": [
       "<div>\n",
       "<style scoped>\n",
       "    .dataframe tbody tr th:only-of-type {\n",
       "        vertical-align: middle;\n",
       "    }\n",
       "\n",
       "    .dataframe tbody tr th {\n",
       "        vertical-align: top;\n",
       "    }\n",
       "\n",
       "    .dataframe thead th {\n",
       "        text-align: right;\n",
       "    }\n",
       "</style>\n",
       "<table border=\"1\" class=\"dataframe\">\n",
       "  <thead>\n",
       "    <tr style=\"text-align: right;\">\n",
       "      <th></th>\n",
       "      <th>info</th>\n",
       "      <th>real_value</th>\n",
       "      <th>real_range_max</th>\n",
       "      <th>real_range_min</th>\n",
       "      <th>real_um</th>\n",
       "      <th>sim_value</th>\n",
       "      <th>sim_range_max</th>\n",
       "      <th>sim_range_min</th>\n",
       "      <th>sim_um</th>\n",
       "      <th>references</th>\n",
       "      <th>influence</th>\n",
       "    </tr>\n",
       "    <tr>\n",
       "      <th>name</th>\n",
       "      <th></th>\n",
       "      <th></th>\n",
       "      <th></th>\n",
       "      <th></th>\n",
       "      <th></th>\n",
       "      <th></th>\n",
       "      <th></th>\n",
       "      <th></th>\n",
       "      <th></th>\n",
       "      <th></th>\n",
       "      <th></th>\n",
       "    </tr>\n",
       "  </thead>\n",
       "  <tbody>\n",
       "    <tr>\n",
       "      <th>SpaceArbitraryUnit</th>\n",
       "      <td>None</td>\n",
       "      <td>1</td>\n",
       "      <td>None</td>\n",
       "      <td>None</td>\n",
       "      <td>millimeter</td>\n",
       "      <td>1.000000</td>\n",
       "      <td>None</td>\n",
       "      <td>None</td>\n",
       "      <td>SpaceArbitraryUnit</td>\n",
       "      <td>None</td>\n",
       "      <td>None</td>\n",
       "    </tr>\n",
       "    <tr>\n",
       "      <th>TimeArbitraryUnit</th>\n",
       "      <td>None</td>\n",
       "      <td>26</td>\n",
       "      <td>None</td>\n",
       "      <td>None</td>\n",
       "      <td>minute</td>\n",
       "      <td>1.000000</td>\n",
       "      <td>None</td>\n",
       "      <td>None</td>\n",
       "      <td>TimeArbitraryUnit</td>\n",
       "      <td>None</td>\n",
       "      <td>None</td>\n",
       "    </tr>\n",
       "    <tr>\n",
       "      <th>AFsArbitraryUnit</th>\n",
       "      <td>None</td>\n",
       "      <td>1.0</td>\n",
       "      <td>None</td>\n",
       "      <td>None</td>\n",
       "      <td>nanogram / milliliter</td>\n",
       "      <td>1.000000</td>\n",
       "      <td>None</td>\n",
       "      <td>None</td>\n",
       "      <td>afau</td>\n",
       "      <td>None</td>\n",
       "      <td>None</td>\n",
       "    </tr>\n",
       "    <tr>\n",
       "      <th>D_af</th>\n",
       "      <td>Diffusivity of angiogenic factor</td>\n",
       "      <td>0.000042</td>\n",
       "      <td>None</td>\n",
       "      <td>None</td>\n",
       "      <td>millimeter ** 2 / second</td>\n",
       "      <td>0.066169</td>\n",
       "      <td>None</td>\n",
       "      <td>None</td>\n",
       "      <td>SpaceArbitraryUnit ** 2 / TimeArbitraryUnit</td>\n",
       "      <td>Estimated from Kihara, T., Ito, J., &amp; Miyake, ...</td>\n",
       "      <td>None</td>\n",
       "    </tr>\n",
       "    <tr>\n",
       "      <th>V_uc_af</th>\n",
       "      <td>Angiogenic factor uptake in capillaries</td>\n",
       "      <td>82.8</td>\n",
       "      <td>8280.0 / hour</td>\n",
       "      <td>0.8280000000000001 / hour</td>\n",
       "      <td>1 / hour</td>\n",
       "      <td>35.880000</td>\n",
       "      <td>3587.9999999999995 / TimeArbitraryUnit</td>\n",
       "      <td>0.3588 / TimeArbitraryUnit</td>\n",
       "      <td>1 / tau</td>\n",
       "      <td>Estimated by Travasso, R. D. M., Poire, E. C.,...</td>\n",
       "      <td>None</td>\n",
       "    </tr>\n",
       "    <tr>\n",
       "      <th>n_source_cells</th>\n",
       "      <td>Initial number of source cells</td>\n",
       "      <td>300</td>\n",
       "      <td>None</td>\n",
       "      <td>None</td>\n",
       "      <td>[adim]</td>\n",
       "      <td>300.000000</td>\n",
       "      <td>None</td>\n",
       "      <td>None</td>\n",
       "      <td>[adim]</td>\n",
       "      <td></td>\n",
       "      <td>None</td>\n",
       "    </tr>\n",
       "    <tr>\n",
       "      <th>source_cells_range</th>\n",
       "      <td>Deactivation range for the hypoxic (source) cells</td>\n",
       "      <td>0.025</td>\n",
       "      <td>None</td>\n",
       "      <td>None</td>\n",
       "      <td>millimeter</td>\n",
       "      <td>0.025000</td>\n",
       "      <td>None</td>\n",
       "      <td>None</td>\n",
       "      <td>sau</td>\n",
       "      <td>Estimated by Travasso, R. D. M., Poire, E. C.,...</td>\n",
       "      <td>None</td>\n",
       "    </tr>\n",
       "    <tr>\n",
       "      <th>af_min</th>\n",
       "      <td>Min value for angiogenic factor (outside hypo...</td>\n",
       "      <td>0.0</td>\n",
       "      <td>None</td>\n",
       "      <td>None</td>\n",
       "      <td>nanogram / milliliter</td>\n",
       "      <td>0.000000</td>\n",
       "      <td>None</td>\n",
       "      <td>None</td>\n",
       "      <td>AFsArbitraryUnit</td>\n",
       "      <td>Estimated by Travasso, R. D. M., Poire, E. C.,...</td>\n",
       "      <td>None</td>\n",
       "    </tr>\n",
       "    <tr>\n",
       "      <th>af_max</th>\n",
       "      <td>Max value for angiogenic factor (inside hypox...</td>\n",
       "      <td>10.0</td>\n",
       "      <td>None</td>\n",
       "      <td>None</td>\n",
       "      <td>nanogram / milliliter</td>\n",
       "      <td>10.000000</td>\n",
       "      <td>None</td>\n",
       "      <td>None</td>\n",
       "      <td>AFsArbitraryUnit</td>\n",
       "      <td>Estimated by Travasso, R. D. M., Poire, E. C.,...</td>\n",
       "      <td>None</td>\n",
       "    </tr>\n",
       "    <tr>\n",
       "      <th>R_c</th>\n",
       "      <td>Cell radius</td>\n",
       "      <td>10</td>\n",
       "      <td>None</td>\n",
       "      <td>None</td>\n",
       "      <td>micrometer</td>\n",
       "      <td>0.010000</td>\n",
       "      <td>None</td>\n",
       "      <td>None</td>\n",
       "      <td>SpaceArbitraryUnit</td>\n",
       "      <td>Milo et al. Nucl. Acids Res. (2010) 38 (suppl ...</td>\n",
       "      <td>None</td>\n",
       "    </tr>\n",
       "    <tr>\n",
       "      <th>epsilon</th>\n",
       "      <td>Interface width</td>\n",
       "      <td>1.5625</td>\n",
       "      <td>None</td>\n",
       "      <td>None</td>\n",
       "      <td>micrometer ** 2</td>\n",
       "      <td>0.000002</td>\n",
       "      <td>None</td>\n",
       "      <td>None</td>\n",
       "      <td>SpaceArbitraryUnit ** 2</td>\n",
       "      <td>Same provied by Travasso, R. D. M., Poire, E. ...</td>\n",
       "      <td>None</td>\n",
       "    </tr>\n",
       "    <tr>\n",
       "      <th>dt</th>\n",
       "      <td>Simulation time step</td>\n",
       "      <td>26</td>\n",
       "      <td>None</td>\n",
       "      <td>None</td>\n",
       "      <td>minute</td>\n",
       "      <td>1.000000</td>\n",
       "      <td>None</td>\n",
       "      <td>None</td>\n",
       "      <td>TimeArbitraryUnit</td>\n",
       "      <td>Same provied by Travasso, R. D. M., Poire, E. ...</td>\n",
       "      <td>None</td>\n",
       "    </tr>\n",
       "    <tr>\n",
       "      <th>T_p</th>\n",
       "      <td>Angiogenic factor concentration for maximum pr...</td>\n",
       "      <td>1.0</td>\n",
       "      <td>None</td>\n",
       "      <td>None</td>\n",
       "      <td>nanogram / milliliter</td>\n",
       "      <td>1.000000</td>\n",
       "      <td>None</td>\n",
       "      <td>None</td>\n",
       "      <td>AFsArbitraryUnit</td>\n",
       "      <td>None</td>\n",
       "      <td>None</td>\n",
       "    </tr>\n",
       "    <tr>\n",
       "      <th>alpha_p</th>\n",
       "      <td>Stalk cells proliferation rate</td>\n",
       "      <td>0.00097</td>\n",
       "      <td>None</td>\n",
       "      <td>None</td>\n",
       "      <td>milliliter / hour / picogram</td>\n",
       "      <td>0.420333</td>\n",
       "      <td>None</td>\n",
       "      <td>None</td>\n",
       "      <td>1 / AFsArbitraryUnit / TimeArbitraryUnit</td>\n",
       "      <td>None</td>\n",
       "      <td>None</td>\n",
       "    </tr>\n",
       "    <tr>\n",
       "      <th>alpha_pc</th>\n",
       "      <td>Endothelial cells proliferation rate</td>\n",
       "      <td>0.00097</td>\n",
       "      <td>None</td>\n",
       "      <td>None</td>\n",
       "      <td>milliliter / hour / picogram</td>\n",
       "      <td>0.420333</td>\n",
       "      <td>None</td>\n",
       "      <td>None</td>\n",
       "      <td>1 / AFsArbitraryUnit / TimeArbitraryUnit</td>\n",
       "      <td>None</td>\n",
       "      <td>None</td>\n",
       "    </tr>\n",
       "    <tr>\n",
       "      <th>T_c</th>\n",
       "      <td>Minimum af for Tip Cells Activation</td>\n",
       "      <td>3.0</td>\n",
       "      <td>None</td>\n",
       "      <td>None</td>\n",
       "      <td>nanogram / milliliter</td>\n",
       "      <td>3.000000</td>\n",
       "      <td>None</td>\n",
       "      <td>None</td>\n",
       "      <td>AFsArbitraryUnit</td>\n",
       "      <td>Song, M. &amp; Finley, S.D.Mechanistic characteriz...</td>\n",
       "      <td>None</td>\n",
       "    </tr>\n",
       "    <tr>\n",
       "      <th>G_m</th>\n",
       "      <td>Minimum af gradient required for Tip Cells Act...</td>\n",
       "      <td>14.0</td>\n",
       "      <td>None</td>\n",
       "      <td>None</td>\n",
       "      <td>nanogram / milliliter / millimeter</td>\n",
       "      <td>14.000000</td>\n",
       "      <td>None</td>\n",
       "      <td>None</td>\n",
       "      <td>AFsArbitraryUnit / SpaceArbitraryUnit</td>\n",
       "      <td>Shamloo, A., Ma, N., Poo, M. M., Sohn, L. L., ...</td>\n",
       "      <td>None</td>\n",
       "    </tr>\n",
       "    <tr>\n",
       "      <th>phi_th</th>\n",
       "      <td>Minimum capillaries field value for Tip Cells ...</td>\n",
       "      <td>None</td>\n",
       "      <td>None</td>\n",
       "      <td>None</td>\n",
       "      <td>None</td>\n",
       "      <td>0.900000</td>\n",
       "      <td>None</td>\n",
       "      <td>None</td>\n",
       "      <td>None</td>\n",
       "      <td>None</td>\n",
       "      <td>None</td>\n",
       "    </tr>\n",
       "    <tr>\n",
       "      <th>G_M</th>\n",
       "      <td>af gradient for maximum tip cells velocity</td>\n",
       "      <td>42.0</td>\n",
       "      <td>None</td>\n",
       "      <td>None</td>\n",
       "      <td>nanogram / milliliter / millimeter</td>\n",
       "      <td>42.000000</td>\n",
       "      <td>None</td>\n",
       "      <td>None</td>\n",
       "      <td>AFsArbitraryUnit / SpaceArbitraryUnit</td>\n",
       "      <td>None</td>\n",
       "      <td>None</td>\n",
       "    </tr>\n",
       "    <tr>\n",
       "      <th>phi_min</th>\n",
       "      <td>Min capillaries field value</td>\n",
       "      <td>None</td>\n",
       "      <td>None</td>\n",
       "      <td>None</td>\n",
       "      <td>None</td>\n",
       "      <td>-1.000000</td>\n",
       "      <td>None</td>\n",
       "      <td>None</td>\n",
       "      <td>None</td>\n",
       "      <td>None</td>\n",
       "      <td>None</td>\n",
       "    </tr>\n",
       "    <tr>\n",
       "      <th>phi_max</th>\n",
       "      <td>Max capillaries field value</td>\n",
       "      <td>None</td>\n",
       "      <td>None</td>\n",
       "      <td>None</td>\n",
       "      <td>None</td>\n",
       "      <td>1.000000</td>\n",
       "      <td>None</td>\n",
       "      <td>None</td>\n",
       "      <td>None</td>\n",
       "      <td>None</td>\n",
       "      <td>None</td>\n",
       "    </tr>\n",
       "    <tr>\n",
       "      <th>M</th>\n",
       "      <td>'Motility' for the capillaries phase field</td>\n",
       "      <td>0.0</td>\n",
       "      <td>None</td>\n",
       "      <td>None</td>\n",
       "      <td>millimeter ** 2 / second</td>\n",
       "      <td>0.000002</td>\n",
       "      <td>None</td>\n",
       "      <td>None</td>\n",
       "      <td>SpaceArbitraryUnit ** 2 / TimeArbitraryUnit</td>\n",
       "      <td>None</td>\n",
       "      <td>None</td>\n",
       "    </tr>\n",
       "    <tr>\n",
       "      <th>chi</th>\n",
       "      <td>chemotactic constant for tip cells</td>\n",
       "      <td>0.008333</td>\n",
       "      <td>None</td>\n",
       "      <td>None</td>\n",
       "      <td>micrometer * milliliter * millimeter / minute ...</td>\n",
       "      <td>0.000217</td>\n",
       "      <td>None</td>\n",
       "      <td>None</td>\n",
       "      <td>SpaceArbitraryUnit ** 2 / AFsArbitraryUnit / T...</td>\n",
       "      <td>None</td>\n",
       "      <td>None</td>\n",
       "    </tr>\n",
       "    <tr>\n",
       "      <th>min_tipcell_distance</th>\n",
       "      <td>Min Tip Cells distance (due to Notch pathway)</td>\n",
       "      <td>40</td>\n",
       "      <td>None</td>\n",
       "      <td>None</td>\n",
       "      <td>micrometer</td>\n",
       "      <td>0.040000</td>\n",
       "      <td>None</td>\n",
       "      <td>None</td>\n",
       "      <td>SpaceArbitraryUnit</td>\n",
       "      <td>None</td>\n",
       "      <td>None</td>\n",
       "    </tr>\n",
       "    <tr>\n",
       "      <th>tc_freq</th>\n",
       "      <td>Frequency of TC activation</td>\n",
       "      <td>2.307692</td>\n",
       "      <td>None</td>\n",
       "      <td>None</td>\n",
       "      <td>1 / hour</td>\n",
       "      <td>1.000000</td>\n",
       "      <td>None</td>\n",
       "      <td>None</td>\n",
       "      <td>1 / TimeArbitraryUnit</td>\n",
       "      <td>None</td>\n",
       "      <td>None</td>\n",
       "    </tr>\n",
       "  </tbody>\n",
       "</table>\n",
       "</div>"
      ],
      "text/plain": [
       "                                                                   info  \\\n",
       "name                                                                      \n",
       "SpaceArbitraryUnit                                                 None   \n",
       "TimeArbitraryUnit                                                  None   \n",
       "AFsArbitraryUnit                                                   None   \n",
       "D_af                                   Diffusivity of angiogenic factor   \n",
       "V_uc_af                         Angiogenic factor uptake in capillaries   \n",
       "n_source_cells                           Initial number of source cells   \n",
       "source_cells_range    Deactivation range for the hypoxic (source) cells   \n",
       "af_min                 Min value for angiogenic factor (outside hypo...   \n",
       "af_max                 Max value for angiogenic factor (inside hypox...   \n",
       "R_c                                                         Cell radius   \n",
       "epsilon                                                 Interface width   \n",
       "dt                                                 Simulation time step   \n",
       "T_p                   Angiogenic factor concentration for maximum pr...   \n",
       "alpha_p                                  Stalk cells proliferation rate   \n",
       "alpha_pc                           Endothelial cells proliferation rate   \n",
       "T_c                                 Minimum af for Tip Cells Activation   \n",
       "G_m                   Minimum af gradient required for Tip Cells Act...   \n",
       "phi_th                Minimum capillaries field value for Tip Cells ...   \n",
       "G_M                          af gradient for maximum tip cells velocity   \n",
       "phi_min                                     Min capillaries field value   \n",
       "phi_max                                     Max capillaries field value   \n",
       "M                            'Motility' for the capillaries phase field   \n",
       "chi                                  chemotactic constant for tip cells   \n",
       "min_tipcell_distance      Min Tip Cells distance (due to Notch pathway)   \n",
       "tc_freq                                      Frequency of TC activation   \n",
       "\n",
       "                     real_value real_range_max             real_range_min  \\\n",
       "name                                                                        \n",
       "SpaceArbitraryUnit            1           None                       None   \n",
       "TimeArbitraryUnit            26           None                       None   \n",
       "AFsArbitraryUnit            1.0           None                       None   \n",
       "D_af                   0.000042           None                       None   \n",
       "V_uc_af                    82.8  8280.0 / hour  0.8280000000000001 / hour   \n",
       "n_source_cells              300           None                       None   \n",
       "source_cells_range        0.025           None                       None   \n",
       "af_min                      0.0           None                       None   \n",
       "af_max                     10.0           None                       None   \n",
       "R_c                          10           None                       None   \n",
       "epsilon                  1.5625           None                       None   \n",
       "dt                           26           None                       None   \n",
       "T_p                         1.0           None                       None   \n",
       "alpha_p                 0.00097           None                       None   \n",
       "alpha_pc                0.00097           None                       None   \n",
       "T_c                         3.0           None                       None   \n",
       "G_m                        14.0           None                       None   \n",
       "phi_th                     None           None                       None   \n",
       "G_M                        42.0           None                       None   \n",
       "phi_min                    None           None                       None   \n",
       "phi_max                    None           None                       None   \n",
       "M                           0.0           None                       None   \n",
       "chi                    0.008333           None                       None   \n",
       "min_tipcell_distance         40           None                       None   \n",
       "tc_freq                2.307692           None                       None   \n",
       "\n",
       "                                                                real_um  \\\n",
       "name                                                                      \n",
       "SpaceArbitraryUnit                                           millimeter   \n",
       "TimeArbitraryUnit                                                minute   \n",
       "AFsArbitraryUnit                                  nanogram / milliliter   \n",
       "D_af                                           millimeter ** 2 / second   \n",
       "V_uc_af                                                        1 / hour   \n",
       "n_source_cells                                                   [adim]   \n",
       "source_cells_range                                           millimeter   \n",
       "af_min                                            nanogram / milliliter   \n",
       "af_max                                            nanogram / milliliter   \n",
       "R_c                                                          micrometer   \n",
       "epsilon                                                 micrometer ** 2   \n",
       "dt                                                               minute   \n",
       "T_p                                               nanogram / milliliter   \n",
       "alpha_p                                    milliliter / hour / picogram   \n",
       "alpha_pc                                   milliliter / hour / picogram   \n",
       "T_c                                               nanogram / milliliter   \n",
       "G_m                                  nanogram / milliliter / millimeter   \n",
       "phi_th                                                             None   \n",
       "G_M                                  nanogram / milliliter / millimeter   \n",
       "phi_min                                                            None   \n",
       "phi_max                                                            None   \n",
       "M                                              millimeter ** 2 / second   \n",
       "chi                   micrometer * milliliter * millimeter / minute ...   \n",
       "min_tipcell_distance                                         micrometer   \n",
       "tc_freq                                                        1 / hour   \n",
       "\n",
       "                       sim_value                           sim_range_max  \\\n",
       "name                                                                       \n",
       "SpaceArbitraryUnit      1.000000                                    None   \n",
       "TimeArbitraryUnit       1.000000                                    None   \n",
       "AFsArbitraryUnit        1.000000                                    None   \n",
       "D_af                    0.066169                                    None   \n",
       "V_uc_af                35.880000  3587.9999999999995 / TimeArbitraryUnit   \n",
       "n_source_cells        300.000000                                    None   \n",
       "source_cells_range      0.025000                                    None   \n",
       "af_min                  0.000000                                    None   \n",
       "af_max                 10.000000                                    None   \n",
       "R_c                     0.010000                                    None   \n",
       "epsilon                 0.000002                                    None   \n",
       "dt                      1.000000                                    None   \n",
       "T_p                     1.000000                                    None   \n",
       "alpha_p                 0.420333                                    None   \n",
       "alpha_pc                0.420333                                    None   \n",
       "T_c                     3.000000                                    None   \n",
       "G_m                    14.000000                                    None   \n",
       "phi_th                  0.900000                                    None   \n",
       "G_M                    42.000000                                    None   \n",
       "phi_min                -1.000000                                    None   \n",
       "phi_max                 1.000000                                    None   \n",
       "M                       0.000002                                    None   \n",
       "chi                     0.000217                                    None   \n",
       "min_tipcell_distance    0.040000                                    None   \n",
       "tc_freq                 1.000000                                    None   \n",
       "\n",
       "                                   sim_range_min  \\\n",
       "name                                               \n",
       "SpaceArbitraryUnit                          None   \n",
       "TimeArbitraryUnit                           None   \n",
       "AFsArbitraryUnit                            None   \n",
       "D_af                                        None   \n",
       "V_uc_af               0.3588 / TimeArbitraryUnit   \n",
       "n_source_cells                              None   \n",
       "source_cells_range                          None   \n",
       "af_min                                      None   \n",
       "af_max                                      None   \n",
       "R_c                                         None   \n",
       "epsilon                                     None   \n",
       "dt                                          None   \n",
       "T_p                                         None   \n",
       "alpha_p                                     None   \n",
       "alpha_pc                                    None   \n",
       "T_c                                         None   \n",
       "G_m                                         None   \n",
       "phi_th                                      None   \n",
       "G_M                                         None   \n",
       "phi_min                                     None   \n",
       "phi_max                                     None   \n",
       "M                                           None   \n",
       "chi                                         None   \n",
       "min_tipcell_distance                        None   \n",
       "tc_freq                                     None   \n",
       "\n",
       "                                                                 sim_um  \\\n",
       "name                                                                      \n",
       "SpaceArbitraryUnit                                   SpaceArbitraryUnit   \n",
       "TimeArbitraryUnit                                     TimeArbitraryUnit   \n",
       "AFsArbitraryUnit                                                   afau   \n",
       "D_af                        SpaceArbitraryUnit ** 2 / TimeArbitraryUnit   \n",
       "V_uc_af                                                         1 / tau   \n",
       "n_source_cells                                                   [adim]   \n",
       "source_cells_range                                                  sau   \n",
       "af_min                                                 AFsArbitraryUnit   \n",
       "af_max                                                 AFsArbitraryUnit   \n",
       "R_c                                                  SpaceArbitraryUnit   \n",
       "epsilon                                         SpaceArbitraryUnit ** 2   \n",
       "dt                                                    TimeArbitraryUnit   \n",
       "T_p                                                    AFsArbitraryUnit   \n",
       "alpha_p                        1 / AFsArbitraryUnit / TimeArbitraryUnit   \n",
       "alpha_pc                       1 / AFsArbitraryUnit / TimeArbitraryUnit   \n",
       "T_c                                                    AFsArbitraryUnit   \n",
       "G_m                               AFsArbitraryUnit / SpaceArbitraryUnit   \n",
       "phi_th                                                             None   \n",
       "G_M                               AFsArbitraryUnit / SpaceArbitraryUnit   \n",
       "phi_min                                                            None   \n",
       "phi_max                                                            None   \n",
       "M                           SpaceArbitraryUnit ** 2 / TimeArbitraryUnit   \n",
       "chi                   SpaceArbitraryUnit ** 2 / AFsArbitraryUnit / T...   \n",
       "min_tipcell_distance                                 SpaceArbitraryUnit   \n",
       "tc_freq                                           1 / TimeArbitraryUnit   \n",
       "\n",
       "                                                             references  \\\n",
       "name                                                                      \n",
       "SpaceArbitraryUnit                                                 None   \n",
       "TimeArbitraryUnit                                                  None   \n",
       "AFsArbitraryUnit                                                   None   \n",
       "D_af                  Estimated from Kihara, T., Ito, J., & Miyake, ...   \n",
       "V_uc_af               Estimated by Travasso, R. D. M., Poire, E. C.,...   \n",
       "n_source_cells                                                            \n",
       "source_cells_range    Estimated by Travasso, R. D. M., Poire, E. C.,...   \n",
       "af_min                Estimated by Travasso, R. D. M., Poire, E. C.,...   \n",
       "af_max                Estimated by Travasso, R. D. M., Poire, E. C.,...   \n",
       "R_c                   Milo et al. Nucl. Acids Res. (2010) 38 (suppl ...   \n",
       "epsilon               Same provied by Travasso, R. D. M., Poire, E. ...   \n",
       "dt                    Same provied by Travasso, R. D. M., Poire, E. ...   \n",
       "T_p                                                                None   \n",
       "alpha_p                                                            None   \n",
       "alpha_pc                                                           None   \n",
       "T_c                   Song, M. & Finley, S.D.Mechanistic characteriz...   \n",
       "G_m                   Shamloo, A., Ma, N., Poo, M. M., Sohn, L. L., ...   \n",
       "phi_th                                                             None   \n",
       "G_M                                                                None   \n",
       "phi_min                                                            None   \n",
       "phi_max                                                            None   \n",
       "M                                                                  None   \n",
       "chi                                                                None   \n",
       "min_tipcell_distance                                               None   \n",
       "tc_freq                                                            None   \n",
       "\n",
       "                     influence  \n",
       "name                            \n",
       "SpaceArbitraryUnit        None  \n",
       "TimeArbitraryUnit         None  \n",
       "AFsArbitraryUnit          None  \n",
       "D_af                      None  \n",
       "V_uc_af                   None  \n",
       "n_source_cells            None  \n",
       "source_cells_range        None  \n",
       "af_min                    None  \n",
       "af_max                    None  \n",
       "R_c                       None  \n",
       "epsilon                   None  \n",
       "dt                        None  \n",
       "T_p                       None  \n",
       "alpha_p                   None  \n",
       "alpha_pc                  None  \n",
       "T_c                       None  \n",
       "G_m                       None  \n",
       "phi_th                    None  \n",
       "G_M                       None  \n",
       "phi_min                   None  \n",
       "phi_max                   None  \n",
       "M                         None  \n",
       "chi                       None  \n",
       "min_tipcell_distance      None  \n",
       "tc_freq                   None  "
      ]
     },
     "metadata": {},
     "output_type": "display_data"
    }
   ],
   "source": [
    "from IPython.display import display\n",
    "\n",
    "parameters_df.set_index(\"name\", inplace=True)  # needed for simulation\n",
    "\n",
    "display(parameters_df)"
   ]
  },
  {
   "cell_type": "markdown",
   "metadata": {
    "collapsed": false,
    "jupyter": {
     "outputs_hidden": false
    }
   },
   "source": [
    "So we can convert it to csv:"
   ]
  },
  {
   "cell_type": "code",
   "execution_count": 40,
   "metadata": {
    "ExecuteTime": {
     "end_time": "2023-11-15T09:03:22.502190363Z",
     "start_time": "2023-11-15T09:03:21.167055432Z"
    },
    "collapsed": false,
    "jupyter": {
     "outputs_hidden": false
    }
   },
   "outputs": [],
   "source": [
    "parameters_df.to_csv(\"parameters.csv\")"
   ]
  },
  {
   "cell_type": "markdown",
   "metadata": {
    "collapsed": false,
    "jupyter": {
     "outputs_hidden": false
    }
   },
   "source": [
    "# References\n",
    "\n",
    "Lai, X., & Friedman, A. (2019). Mathematical modeling in scheduling cancer treatment with combination of VEGF inhibitor and chemotherapy drugs. Journal of Theoretical Biology, 462, 490-498. https://doi.org/10.1016/J.JTBI.2018.11.018\n",
    "\n",
    "Liao, K.L. , Bai, X.F. , Friedman, A. , 2014. Mathematical modeling of interleukin-27 induction of anti-tumor t cells response. PLoS One 9 (3), e91844.\n",
    "\n",
    "Guerra, A., Belinha, J., Mangir, N., MacNeil, S., & Natal Jorge, R. (2021). Sprouting Angiogenesis: A Numerical Approach with Experimental Validation. Annals of Biomedical Engineering, 49(2), 871-884. https://doi.org/10.1007/S10439-020-02622-W/TABLES/1\n",
    "\n",
    "Phillips, C. M., Lima, E. A. B. F., Woodall, R. T., Brock, A., & Yankeelov, T. E. (2020). A hybrid model of tumor growth and angiogenesis: In silico experiments. PLOS ONE, 15(4), e0231137. https://doi.org/10.1371/JOURNAL.PONE.0231137\n",
    "\n",
    "Levine, H. A., Pamuk, S., Bölümü, M., Sleeman, B. D., Nilsen-Hamilton, M., Cotran, R. A. S., Leapman, S. B., Folkman, J., & Levine, H. A. (2001). Mathematical modeling of capillary formation and development in tumor angiogenesis: Penetration into the stroma. Bulletin of Mathematical Biology 2001 63:5, 63(5), 801-863. https://doi.org/10.1006/BULM.2001.0240\n",
    "\n",
    "Kihara, T., Ito, J., & Miyake, J. (2013). Measurement of Biomolecular Diffusion in Extracellular Matrix Condensed by Fibroblasts Using Fluorescence Correlation Spectroscopy. PLoS ONE, 8(11), 82382. https://doi.org/10.1371/JOURNAL.PONE.0082382\n",
    "\n",
    "Kut, C., Mac Gabhann, F., & Popel, A. S. (2007). Where is VEGF in the body? A meta-analysis of VEGF distribution in cancer. British Journal of Cancer 2007 97:7, 97(7), 978-985. https://doi.org/10.1038/sj.bjc.6603923\n",
    "\n",
    "Milo et al. Nucl. Acids Res. (2010) 38 (suppl 1): D750-D753.\n",
    "\n",
    "Tracqui, P., Liu, J. W., Collin, O., Clement-Lacroix, J., & Planus, E. (2005). Global analysis of endothelial cell line proliferation patterns based on nutrient-depletion models: implications for a standardization of cell proliferation assays. Cell Proliferation, 38(3), 119-135. https://doi.org/10.1111/J.1365-2184.2005.00337.X\n",
    "\n",
    "Los, M., Aarsman, C. J. M., Terpstra, L., Wittebol-Post, D., Lips, C. J. M., Blijham, G. H., & Voest, E. E. (1997). Elevated ocular levels of vascular endothelial growth factor in patients with von Hippel-Lindau disease. Annals of Oncology, 8(10), 1015-1022. https://doi.org/10.1023/A:1008213320642\n",
    "\n",
    "Karayiannakis, A. J., Zbar, A., Polychronidis, A., & Simopoulos, C. (2003). Serum and Drainage Fluid Vascular Endothelial Growth Factor Levels in Early Surgical Wounds. European Surgical Research, 35(6), 492-496. https://doi.org/10.1159/000073388\n",
    "\n",
    "Shamloo, A., Ma, N., Poo, M. M., Sohn, L. L., & Heilshorn, S. C. (2008). Endothelial cell polarization and chemotaxis in a microfluidic device. Lab on a Chip, 8(8), 1292-1299. https://doi.org/10.1039/B719788H\n",
    "\n",
    "Stokes, C. L., Lauffenburger, D. A., & Williams, S. K. (1991). Migration of individual microvessel endothelial cells: stochastic model and parameter measurement.\n",
    "\n",
    "Finley, S. D., Dhar, M., & Popel, A. S. (2013). Compartment model predicts VEGF secretion and investigates the effects of VEGF Trap in tumor-bearing mice. Frontiers in Oncology, 3 JUL, 196. https://doi.org/10.3389/fonc.2013.00196\n",
    "\n",
    "Na, X., Wu, G., Ryan, C. K., Schoen, S. R., Di’Santagnese, P. A., & Messing, E. M. (2003). Overproduction of vascular endothelial growth factor related to von Hippel-Lindau tumor suppressor gene mutations and hypoxia-inducible factor-1α expression in renal cell carcinomas. Journal of Urology, 170(2 I), 588-592. https://doi.org/10.1097/01.ju.0000074870.54671.98\n",
    "\n",
    "Blinder, Y. J., Freiman, A., Raindel, N., Mooney, D. J., & Levenberg, S. (2015). Vasculogenic dynamics in 3D engineered tissue constructs. Scientific Reports, 5(1), 1-8. https://doi.org/10.1038/srep17840\n",
    "\n",
    "Goswami, A., Surve, A., & Venkatesh, P. (2021). Optical Coherence Tomography Angiography of Early Stage 1a Retinal Hemangioblastoma in Von-Hippel-Lindau. Journal of Kidney Cancer and VHL, 8(3), 15-18. https://doi.org/10.15586/JKCVHL.V8I3.158\n",
    "\n",
    "Arora, S., Chung, H., & Damji, K. (2015). Ophthalmology and Clinical Research Optic Disk Size Assessment Techniques: Photo Essay. Int J Ophthalmol Clin Res, 2, 1.\n",
    "\n",
    "Ye, D. Y., Bakhtian, K. D., Asthagiri, A. R., & Lonser, R. R. (2012). Effect of pregnancy on hemangioblastoma development and progression in von Hippel-Lindau disease: Clinical article. Journal of Neurosurgery, 117(5), 818-824. https://doi.org/10.3171/2012.7.JNS12367\n",
    "\n",
    "Imoukhuede, P. I., & Popel, A. S. (2011). Quantification and cell-to-cell variation of vascular endothelial growth factor receptors. Experimental Cell Research, 317(7), 955-965. https://doi.org/10.1016/J.YEXCR.2010.12.014\n",
    "\n",
    "Bateman, A., Martin, M. J., Orchard, S., Magrane, M., Agivetova, R., Ahmad, S., Alpi, E., Bowler-Barnett, E. H., Britto, R., Bursteinas, B., Bye-A-Jee, H., Coetzee, R., Cukura, A., da Silva, A., Denny, P., Dogan, T., Ebenezer, T. G., Fan, J., Castro, L. G., … Teodoro, D. (2021). UniProt: the universal protein knowledgebase in 2021. Nucleic Acids Research, 49(D1), D480-D489. https://doi.org/10.1093/NAR/GKAA1100\n",
    "\n",
    "Phillips, C. M. et al. Towards integration of time-resolved confocal microscopy of a 3D in vitro microfluidic platform with a hybrid multiscale model of tumor angiogenesis. PLOS Comput. Biol. 19, e1009499 (2023).\n",
    "\n",
    "MACDOUGALL, J., MCCABE, M. Diffusion Coefficient of Oxygen through Tissues. Nature 215, 1173–1174 (1967). https://doi.org/10.1038/2151173a0\n",
    "\n",
    "Song, M. & Finley, S. D. Mechanistic characterization of endothelial sprouting mediated by pro-angiogenic signaling. Microcirculation 29, e12744 (2022)."
   ]
  }
 ],
 "metadata": {
  "kernelspec": {
   "display_name": "Python 3 (ipykernel)",
   "language": "python",
   "name": "python3"
  },
  "language_info": {
   "codemirror_mode": {
    "name": "ipython",
    "version": 3
   },
   "file_extension": ".py",
   "mimetype": "text/x-python",
   "name": "python",
   "nbconvert_exporter": "python",
   "pygments_lexer": "ipython3",
   "version": "3.10.12"
  }
 },
 "nbformat": 4,
 "nbformat_minor": 4
}
